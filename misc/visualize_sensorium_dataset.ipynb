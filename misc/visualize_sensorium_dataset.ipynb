{
 "cells": [
  {
   "cell_type": "code",
   "metadata": {
    "collapsed": true,
    "ExecuteTime": {
     "end_time": "2025-06-04T15:24:38.219220Z",
     "start_time": "2025-06-04T15:24:35.980167Z"
    }
   },
   "source": [
    "import argparse\n",
    "from pathlib import Path\n",
    "import warnings\n",
    "from typing import Dict\n",
    "\n",
    "import matplotlib\n",
    "import matplotlib.pyplot as plt\n",
    "import matplotlib.animation as animation\n",
    "import numpy as np\n",
    "import seaborn as sns\n",
    "import torch\n",
    "from mpl_toolkits.axes_grid1.anchored_artists import AnchoredSizeBar\n",
    "\n",
    "from viv1t import data\n",
    "from viv1t.utils import plot\n",
    "from viv1t.utils import h5\n",
    "from viv1t.utils import utils\n",
    "\n",
    "plot.set_font()\n",
    "\n",
    "matplotlib.rcParams[\"animation.embed_limit\"] = 2**64\n",
    "\n",
    "TICK_FONTSIZE = 10\n",
    "LABEL_FONTSIZE = 11\n",
    "TITLE_FONTSIZE = 12\n",
    "FPS = 30\n",
    "DPI = 180\n",
    "\n",
    "DATA_DIR = Path(\"../data\")\n",
    "PLOT_DIR = Path(\"figures/data_visualization\")\n",
    "OUTPUT_DIR = Path(\"../runs/vivit/204_causal_viv1t\")"
   ],
   "outputs": [],
   "execution_count": 1
  },
  {
   "attachments": {},
   "cell_type": "markdown",
   "metadata": {},
   "source": [
    "### Load datasets"
   ]
  },
  {
   "cell_type": "code",
   "metadata": {
    "ExecuteTime": {
     "end_time": "2025-06-04T15:24:40.855861Z",
     "start_time": "2025-06-04T15:24:39.897078Z"
    }
   },
   "source": [
    "args = argparse.Namespace()\n",
    "args.data_dir = DATA_DIR\n",
    "args.mouse_ids = list(data.SENSORIUM)\n",
    "args.seed = 1234\n",
    "args.transform_input = 0\n",
    "args.transform_output = 0\n",
    "args.batch_size = 1\n",
    "args.crop_frame = -1\n",
    "args.limit_data = None\n",
    "args.device = torch.device(\"cpu\")\n",
    "args.num_workers = 0\n",
    "args.verbose = 2\n",
    "\n",
    "train_ds, val_ds, _ = data.get_training_ds(\n",
    "    args,\n",
    "    data_dir=args.data_dir,\n",
    "    mouse_ids=args.mouse_ids,\n",
    "    batch_size=args.batch_size,\n",
    "    device=args.device,\n",
    ")\n",
    "_, test_ds = data.get_submission_ds(\n",
    "    args,\n",
    "    data_dir=args.data_dir,\n",
    "    mouse_ids=args.mouse_ids,\n",
    "    batch_size=args.batch_size,\n",
    "    device=args.device,\n",
    ")"
   ],
   "outputs": [],
   "execution_count": 2
  },
  {
   "cell_type": "code",
   "metadata": {
    "ExecuteTime": {
     "end_time": "2025-06-04T15:24:42.753188Z",
     "start_time": "2025-06-04T15:24:42.749099Z"
    }
   },
   "source": [
    "for mouse_id, mouse_ds in train_ds.items():\n",
    "    tiers, counts = np.unique(mouse_ds.dataset.tiers, return_counts=True)\n",
    "    tiers = [str(tier) for tier in tiers]\n",
    "    tiers = dict(zip(tiers, counts))\n",
    "    print(\n",
    "        f\"Mouse {mouse_id}\\n\"\n",
    "        f\"\\tnum_neurons: {mouse_ds.dataset.num_neurons}\\n\"\n",
    "        f\"\\ttrain size: {tiers['train']}\\n\"\n",
    "        f\"\\tvalidation size: {tiers['validation']}\\n\"\n",
    "        f\"\\tlive main size: {tiers['live_main']}\\n\"\n",
    "        f\"\\tlive bonus size: {tiers['live_bonus']}\\n\"\n",
    "        f\"\\tfinal bonus size: {tiers['final_bonus']}\\n\"\n",
    "        f\"\\tfinal bonus size: {tiers['final_bonus']}\\n\"\n",
    "    )"
   ],
   "outputs": [
    {
     "name": "stdout",
     "output_type": "stream",
     "text": [
      "Mouse A\n",
      "\tnum_neurons: 7440\n",
      "\ttrain size: 350\n",
      "\tvalidation size: 59\n",
      "\tlive main size: 56\n",
      "\tlive bonus size: 59\n",
      "\tfinal bonus size: 138\n",
      "\tfinal bonus size: 138\n",
      "\n",
      "Mouse B\n",
      "\tnum_neurons: 7928\n",
      "\ttrain size: 352\n",
      "\tvalidation size: 60\n",
      "\tlive main size: 58\n",
      "\tlive bonus size: 59\n",
      "\tfinal bonus size: 118\n",
      "\tfinal bonus size: 118\n",
      "\n",
      "Mouse C\n",
      "\tnum_neurons: 8285\n",
      "\ttrain size: 355\n",
      "\tvalidation size: 58\n",
      "\tlive main size: 58\n",
      "\tlive bonus size: 80\n",
      "\tfinal bonus size: 119\n",
      "\tfinal bonus size: 119\n",
      "\n",
      "Mouse D\n",
      "\tnum_neurons: 7671\n",
      "\ttrain size: 356\n",
      "\tvalidation size: 59\n",
      "\tlive main size: 60\n",
      "\tlive bonus size: 59\n",
      "\tfinal bonus size: 120\n",
      "\tfinal bonus size: 120\n",
      "\n",
      "Mouse E\n",
      "\tnum_neurons: 7495\n",
      "\ttrain size: 351\n",
      "\tvalidation size: 60\n",
      "\tlive main size: 57\n",
      "\tlive bonus size: 58\n",
      "\tfinal bonus size: 137\n",
      "\tfinal bonus size: 137\n",
      "\n",
      "Mouse F\n",
      "\tnum_neurons: 7863\n",
      "\ttrain size: 348\n",
      "\tvalidation size: 58\n",
      "\tlive main size: 56\n",
      "\tlive bonus size: 58\n",
      "\tfinal bonus size: 134\n",
      "\tfinal bonus size: 134\n",
      "\n",
      "Mouse G\n",
      "\tnum_neurons: 7908\n",
      "\ttrain size: 329\n",
      "\tvalidation size: 56\n",
      "\tlive main size: 53\n",
      "\tlive bonus size: 57\n",
      "\tfinal bonus size: 131\n",
      "\tfinal bonus size: 131\n",
      "\n",
      "Mouse H\n",
      "\tnum_neurons: 8202\n",
      "\ttrain size: 354\n",
      "\tvalidation size: 60\n",
      "\tlive main size: 60\n",
      "\tlive bonus size: 58\n",
      "\tfinal bonus size: 120\n",
      "\tfinal bonus size: 120\n",
      "\n",
      "Mouse I\n",
      "\tnum_neurons: 7939\n",
      "\ttrain size: 359\n",
      "\tvalidation size: 60\n",
      "\tlive main size: 60\n",
      "\tlive bonus size: 80\n",
      "\tfinal bonus size: 120\n",
      "\tfinal bonus size: 120\n",
      "\n",
      "Mouse J\n",
      "\tnum_neurons: 8122\n",
      "\ttrain size: 354\n",
      "\tvalidation size: 59\n",
      "\tlive main size: 60\n",
      "\tlive bonus size: 60\n",
      "\tfinal bonus size: 119\n",
      "\tfinal bonus size: 119\n",
      "\n"
     ]
    }
   ],
   "execution_count": 3
  },
  {
   "cell_type": "code",
   "metadata": {
    "collapsed": false,
    "ExecuteTime": {
     "end_time": "2025-06-04T15:24:45.672714Z",
     "start_time": "2025-06-04T15:24:45.663906Z"
    }
   },
   "source": [
    "# draw one sample from Mouse A train set\n",
    "sample = train_ds[\"A\"].dataset.__getitem__(0)\n",
    "for k, v in sample.items():\n",
    "    print(f\"{k}: {v.shape if torch.is_tensor(v) else v}\")"
   ],
   "outputs": [
    {
     "name": "stdout",
     "output_type": "stream",
     "text": [
      "video: torch.Size([1, 300, 36, 64])\n",
      "response: torch.Size([7440, 300])\n",
      "behavior: torch.Size([2, 300])\n",
      "pupil_center: torch.Size([2, 300])\n",
      "mouse_id: A\n",
      "trial_id: torch.Size([])\n",
      "video_id: torch.Size([])\n",
      "stimulus_id: torch.Size([])\n",
      "tier: train\n"
     ]
    }
   ],
   "execution_count": 4
  },
  {
   "attachments": {},
   "cell_type": "markdown",
   "metadata": {
    "collapsed": false
   },
   "source": [
    "### Plot responses and behaviors"
   ]
  },
  {
   "metadata": {
    "ExecuteTime": {
     "end_time": "2025-06-04T15:24:47.485353Z",
     "start_time": "2025-06-04T15:24:47.473386Z"
    }
   },
   "cell_type": "code",
   "source": [
    "def animate_trial(\n",
    "    video: np.ndarray,\n",
    "    response: np.ndarray,\n",
    "    behavior: np.ndarray,\n",
    "    pupil_center: np.ndarray,\n",
    "    num_neurons: int = 170,\n",
    "    filename: Path = None,\n",
    "):\n",
    "    figure = plt.figure(figsize=(8, 6), dpi=120, facecolor=\"white\")\n",
    "\n",
    "    ax1 = figure.add_axes(rect=[0.01, 0.6, 0.5, 0.3])\n",
    "    ax2 = figure.add_axes(rect=[0.01, 0.2, 0.5, 0.3])\n",
    "\n",
    "    top, height, gap = 0.80, 0.1, 0.2\n",
    "    ax3 = figure.add_axes(rect=[0.55, top, 0.4, height])\n",
    "    ax4 = figure.add_axes(rect=[0.55, top - gap, 0.4, height])\n",
    "    ax5 = figure.add_axes(rect=[0.55, top - 2 * gap, 0.4, height])\n",
    "    ax6 = figure.add_axes(rect=[0.55, top - 3 * gap, 0.4, height])\n",
    "\n",
    "    movie_xticks = np.linspace(0, video.shape[3] - 1, 4)\n",
    "    movie_yticks = np.linspace(0, video.shape[2] - 1, 4)\n",
    "    response_xticks = np.linspace(0, video.shape[1] - 1, 4)\n",
    "    response_yticks = np.linspace(0, num_neurons - 1, 4)\n",
    "\n",
    "    pupil_size_yticks = np.linspace(\n",
    "        np.nanmin(behavior[0, :]), np.nanmax(behavior[0, :]), 2\n",
    "    )\n",
    "    speed_yticks = np.linspace(np.nanmin(behavior[1, :]), np.nanmax(behavior[1, :]), 2)\n",
    "    pupil_center_x_yticks = np.linspace(\n",
    "        np.nanmin(pupil_center[0, :]), np.nanmax(pupil_center[0, :]), 2\n",
    "    )\n",
    "    pupil_center_y_yticks = np.linspace(\n",
    "        np.nanmin(pupil_center[1, :]), np.nanmax(pupil_center[1, :]), 2\n",
    "    )\n",
    "\n",
    "    video_aspect = video.shape[2] / video.shape[3]\n",
    "    response_aspect = (video.shape[1] / num_neurons) * video_aspect\n",
    "\n",
    "    def update(frame: int):\n",
    "        ax1.cla()\n",
    "        ax2.cla()\n",
    "        # plot movie frame\n",
    "        ax1.imshow(\n",
    "            video[0, frame, :, :],\n",
    "            cmap=\"gray\",\n",
    "            aspect=\"equal\",\n",
    "            vmin=0,\n",
    "            vmax=255,\n",
    "        )\n",
    "        pos = ax1.get_position()\n",
    "        ax1.text(\n",
    "            x=0,\n",
    "            y=pos.y1 + 0.15,\n",
    "            s=f\"Movie Frame: {frame:03d}\",\n",
    "            ha=\"left\",\n",
    "            va=\"center\",\n",
    "            fontsize=LABEL_FONTSIZE,\n",
    "            transform=ax1.transAxes,\n",
    "        )\n",
    "        ax1.grid(linewidth=0)\n",
    "        plot.set_xticks(\n",
    "            ax1,\n",
    "            ticks=movie_xticks,\n",
    "            tick_labels=movie_xticks.astype(int),\n",
    "            label=\"Width (px)\",\n",
    "            tick_fontsize=TICK_FONTSIZE,\n",
    "            label_fontsize=LABEL_FONTSIZE,\n",
    "        )\n",
    "        plot.set_yticks(\n",
    "            ax1,\n",
    "            ticks=movie_yticks,\n",
    "            tick_labels=movie_yticks.astype(int),\n",
    "            label=\"Height (px)\",\n",
    "            tick_fontsize=TICK_FONTSIZE,\n",
    "            label_fontsize=LABEL_FONTSIZE,\n",
    "        )\n",
    "\n",
    "        # plot response\n",
    "        with warnings.catch_warnings():\n",
    "            warnings.filterwarnings(\"ignore\", category=UserWarning)\n",
    "            ax2.imshow(\n",
    "                response[:num_neurons, :frame], cmap=\"turbo\", aspect=response_aspect\n",
    "            )\n",
    "        ax2.grid(linewidth=0)\n",
    "        plot.set_xticks(\n",
    "            ax2,\n",
    "            ticks=response_xticks,\n",
    "            tick_labels=response_xticks.astype(int),\n",
    "            label=\"Movie frame\",\n",
    "            tick_fontsize=TICK_FONTSIZE,\n",
    "            label_fontsize=LABEL_FONTSIZE,\n",
    "        )\n",
    "        plot.set_yticks(\n",
    "            ax2,\n",
    "            ticks=response_yticks,\n",
    "            tick_labels=response_yticks.astype(int),\n",
    "            tick_fontsize=TICK_FONTSIZE,\n",
    "        )\n",
    "        ax2.set_ylabel(\"Neuronal responses\", fontsize=LABEL_FONTSIZE, labelpad=0)\n",
    "\n",
    "        # behavior - pupil size\n",
    "        ax3.plot(behavior[0, :frame], color=\"black\", linewidth=1.5)\n",
    "        plot.set_yticks(\n",
    "            ax3,\n",
    "            ticks=pupil_size_yticks,\n",
    "            tick_labels=pupil_size_yticks.astype(int),\n",
    "            tick_fontsize=TICK_FONTSIZE,\n",
    "        )\n",
    "        ax3.set_title(\"Pupil size\", pad=1, fontsize=LABEL_FONTSIZE)\n",
    "\n",
    "        # behavior - speed\n",
    "        ax4.plot(behavior[1, :frame], color=\"black\", linewidth=1.5)\n",
    "        plot.set_yticks(\n",
    "            ax4,\n",
    "            ticks=speed_yticks,\n",
    "            tick_labels=[f\"{value:.0e}\" for value in speed_yticks],\n",
    "            tick_fontsize=TICK_FONTSIZE,\n",
    "        )\n",
    "        ax4.set_title(\"Locomotion speed\", pad=1, fontsize=LABEL_FONTSIZE)\n",
    "\n",
    "        # pupil center - horizontal\n",
    "        ax5.plot(pupil_center[0, :frame], color=\"black\", linewidth=1.5)\n",
    "        plot.set_yticks(\n",
    "            ax5,\n",
    "            ticks=pupil_center_x_yticks,\n",
    "            tick_labels=[f\"{value:.01e}\" for value in pupil_center_x_yticks],\n",
    "            tick_fontsize=TICK_FONTSIZE,\n",
    "        )\n",
    "        ax5.set_title(\"Pupil center (x)\", pad=1, fontsize=LABEL_FONTSIZE)\n",
    "\n",
    "        # pupil center - horizontal\n",
    "        ax6.plot(pupil_center[1, :frame], color=\"black\", linewidth=1.5)\n",
    "        plot.set_yticks(\n",
    "            ax6,\n",
    "            ticks=pupil_center_y_yticks,\n",
    "            tick_labels=[f\"{value:.01e}\" for value in pupil_center_y_yticks],\n",
    "            tick_fontsize=TICK_FONTSIZE,\n",
    "        )\n",
    "        ax6.set_title(\"Pupil center (y)\", pad=1, fontsize=LABEL_FONTSIZE)\n",
    "\n",
    "        for ax in [ax3, ax4, ax5, ax6]:\n",
    "            plot.set_xticks(\n",
    "                ax,\n",
    "                ticks=response_xticks,\n",
    "                tick_labels=response_xticks.astype(int),\n",
    "                label=\"Movie frame\" if ax == ax6 else None,\n",
    "                tick_fontsize=TICK_FONTSIZE,\n",
    "                label_fontsize=LABEL_FONTSIZE,\n",
    "            )\n",
    "            ax.grid(visible=False, which=\"major\")\n",
    "            sns.despine(ax=ax, trim=True)\n",
    "\n",
    "    ani = animation.FuncAnimation(\n",
    "        figure, update, frames=np.arange(video.shape[1]), interval=1000 / FPS\n",
    "    )\n",
    "    if filename is not None:\n",
    "        filename.parent.mkdir(parents=True, exist_ok=True)\n",
    "        ani.save(filename, fps=FPS, dpi=DPI, savefig_kwargs={\"pad_inches\": 0.1})\n",
    "    plt.close(figure)"
   ],
   "outputs": [],
   "execution_count": 5
  },
  {
   "metadata": {},
   "cell_type": "markdown",
   "source": "### Plot Mouse A train set"
  },
  {
   "metadata": {},
   "cell_type": "code",
   "outputs": [],
   "execution_count": null,
   "source": [
    "for i in range(3):\n",
    "    sample = train_ds[\"A\"].dataset.__getitem__(i)\n",
    "    animate_trial(\n",
    "        video=sample[\"video\"],\n",
    "        response=sample[\"response\"],\n",
    "        behavior=sample[\"behavior\"],\n",
    "        pupil_center=sample[\"pupil_center\"],\n",
    "        filename=PLOT_DIR\n",
    "        / \"trial\"\n",
    "        / f'mouse{sample[\"mouse_id\"]}'\n",
    "        / \"train\"\n",
    "        / f'trial_{sample[\"trial_id\"]}.mp4',\n",
    "    )"
   ]
  },
  {
   "metadata": {},
   "cell_type": "markdown",
   "source": "### Plot Mouse A validation set"
  },
  {
   "cell_type": "code",
   "execution_count": null,
   "metadata": {},
   "outputs": [],
   "source": [
    "mouse_id = \"A\"\n",
    "for i in range(3):\n",
    "    sample = val_ds[mouse_id].dataset.__getitem__(i)\n",
    "    animation = animate_trial(\n",
    "        video=sample[\"video\"],\n",
    "        response=sample[\"response\"],\n",
    "        behavior=sample[\"behavior\"],\n",
    "        pupil_center=sample[\"pupil_center\"],\n",
    "        filename=f\"figures/mouse{mouse_id}/val/trial{sample['trial_id']}.gif\",\n",
    "    )\n",
    "    del animation"
   ]
  },
  {
   "cell_type": "markdown",
   "metadata": {
    "collapsed": false
   },
   "source": [
    "### Plot for abstract figure "
   ]
  },
  {
   "cell_type": "code",
   "execution_count": null,
   "metadata": {
    "collapsed": false
   },
   "outputs": [],
   "source": [
    "def plot_frame(sample: Dict[str, np.ndarray], frame: int):\n",
    "    figure, ax = plt.subplots(nrows=1, ncols=1, figsize=(3, 2), dpi=DPI)\n",
    "    ax.imshow(\n",
    "        sample[\"video\"][0, frame, :, :],\n",
    "        cmap=\"gray\",\n",
    "        aspect=\"equal\",\n",
    "        vmin=0,\n",
    "        vmax=255,\n",
    "    )\n",
    "    # figure.text(\n",
    "    #     x=0.88,\n",
    "    #     y=0.76,\n",
    "    #     s=f\"Frame {frame+1}\",\n",
    "    #     ha=\"right\",\n",
    "    #     va=\"center\",\n",
    "    #     fontsize=10,\n",
    "    #     color=\"white\",\n",
    "    #     alpha=1.0,\n",
    "    # )\n",
    "    ax.set_xticks([])\n",
    "    ax.set_yticks([])\n",
    "    mouse_id, trial_id = sample[\"mouse_id\"], sample[\"trial_id\"]\n",
    "    # plt.show()\n",
    "    plot.save_figure(\n",
    "        figure,\n",
    "        filename=PLOT_DIR\n",
    "        / \"frame\"\n",
    "        / f\"mouse{mouse_id}\"\n",
    "        / f\"trial{trial_id:03d}_frame{frame+1:03d}.svg\",\n",
    "        dpi=DPI,\n",
    "        close=False,\n",
    "    )\n",
    "    plt.close(figure)"
   ]
  },
  {
   "cell_type": "code",
   "execution_count": null,
   "metadata": {
    "collapsed": false
   },
   "outputs": [],
   "source": [
    "for mouse_id in data.SENSORIUM_OLD:\n",
    "    for i in range(3):\n",
    "        # draw one sample from Mouse G validation set\n",
    "        sample = val_ds[mouse_id].dataset.__getitem__(i, to_tensor=False)\n",
    "        for i in [0, 1, 2, 299]:\n",
    "            plot_frame(sample, frame=i)"
   ]
  },
  {
   "cell_type": "code",
   "execution_count": null,
   "metadata": {
    "collapsed": false
   },
   "outputs": [],
   "source": [
    "pupil_size = sample[\"behavior\"][0]\n",
    "speed = sample[\"behavior\"][1]\n",
    "pupil_center = sample[\"pupil_center\"]\n",
    "print(f\"pupil size: {pupil_size[:3]}\")\n",
    "print(f\"speed: {speed[:3]}\")\n",
    "print(f\"pupil_center x: {pupil_center[0, :3]}\")\n",
    "print(f\"pupil_center y: {pupil_center[1, :3]}\")\n",
    "\n",
    "print(f\"pupil size: {pupil_size[-1]}\")\n",
    "print(f\"speed: {speed[-1]}\")\n",
    "print(f\"pupil_center x: {pupil_center[0, -1]}\")\n",
    "print(f\"pupil_center y: {pupil_center[1, -1]}\")\n",
    "\n",
    "response = sample[\"response\"] / np.std(sample[\"response\"], axis=1, keepdims=True)\n",
    "print(response.shape)\n",
    "print(f\"response: {response[:2, :3]}\")\n",
    "print(f\"response: {response[:2, -1]}\")"
   ]
  },
  {
   "cell_type": "markdown",
   "metadata": {},
   "source": [
    "# Plot Figure 1 assets"
   ]
  },
  {
   "cell_type": "code",
   "execution_count": 2,
   "metadata": {},
   "outputs": [
    {
     "name": "stdout",
     "output_type": "stream",
     "text": [
      "train: [  0   1   3   5   7  14  21  25  26  30  32  34  35  37  38  39  40  41\n",
      "  44  49  50  52  53  54  56  57  58  61  64  66  68  69  71  72  73  74\n",
      "  78  79  81  83  84  85  88  90  91  92  93  95  96  98 100 103 104 105\n",
      " 106 108 112 115 116 122 123 124 125 126 127 129 130 134 135 137 138 140\n",
      " 142 147 148 150 155 156 160 161 163 164 167 171 172 174 175 176 178 179\n",
      " 183 185 187 188 194 199 200 202 204 205 207 208 210 213 216 217 218 219\n",
      " 224 226 228 229 234 238 242 243 244 245 251 254 257 258 259 261 262 264\n",
      " 265 266 267 268 269 270 271 274 278 279 280 281 284 285 286 287 288 289\n",
      " 290 292 293 294 297 299 300 305 306 307 308 310 311 312 315 316 317 322\n",
      " 323 325 326 328 330 331 332 335 336 340 341 343 346 347 348 349 350 351\n",
      " 352 354 356 357 358 359 362 363 364 366 367 368 369 370 376 379 380 381\n",
      " 382 383 384 386 392 394 395 396 397 398 399 401 402 403 405 407 409 411\n",
      " 413 415 416 417 419 420 422 424 426 429 430 431 436 437 438 441 442 444\n",
      " 445 447 451 452 453 454 456 457 459 460 462 463 464 469 471 472 474 478\n",
      " 479 480 485 488 490 491 492 495 498 500 501 502 503 506 507 508 509 510\n",
      " 511 512 513 514 516 517 518 521 522 523 524 525 528 532 535 536 538 541\n",
      " 543 550 551 553 554 555 558 559 561 562 563 565 566 567 568 575 576 578\n",
      " 579 580 583 584 587 588 590 592 594 596 597 601 605 606 607 608 610 611\n",
      " 616 618 619 621 622 625 626 627 628 629 630 632 633 634 635 636 638 639\n",
      " 640 645 647 649 650 651 652 654 656 659]\n",
      "live_bonus: [  2   8  10  22  27  33  47  51  97 111 119 128 132 144 145 151 158 166\n",
      " 182 220 232 235 239 255 256 272 276 282 301 302 314 319 373 375 388 400\n",
      " 404 410 421 434 435 448 465 475 477 499 515 527 533 540 542 546 564 577\n",
      " 598 600 602 614 643]\n",
      "final_bonus: [ 42  43  63  65  80  87 113 117 121 154 162 165 168 169 186 192 196 197\n",
      " 203 209 214 227 236 237 247 249 253 275 283 296 318 324 327 344 371 374\n",
      " 412 427 428 455 482 484 489 493 497 505 547 549 556 557 589 593 609 612\n",
      " 615 620 623 624 657 660 661 662 663 664 665 666 667 668 669 670 671 672\n",
      " 673 674 675 676 677 678 679 680 681 682 683 684 685 686 687 688 689 690\n",
      " 691 692 693 694 695 696 697 698 699 700 701 702 703 704 705 706 707 708\n",
      " 709 711 712 713 714 715 716 717 718 719]\n"
     ]
    }
   ],
   "source": [
    "mouse_id = \"B\"\n",
    "tiers = data.get_tier_ids(data_dir=DATA_DIR, mouse_id=mouse_id)\n",
    "for tier in (\"train\", \"live_bonus\", \"final_bonus\"):\n",
    "    print(f\"{tier}: {np.where(tiers == tier)[0]}\")"
   ]
  },
  {
   "cell_type": "markdown",
   "metadata": {},
   "source": [
    "### Plot frames"
   ]
  },
  {
   "cell_type": "code",
   "execution_count": 706,
   "metadata": {},
   "outputs": [],
   "source": [
    "mouse_id, trial_id = \"B\", 186\n",
    "filename = PLOT_DIR / \"video\" / f\"mouse{mouse_id}\"\n",
    "# trial_ids = np.where(tiers == \"train\")[0]\n",
    "trial_ids = [2, 176]\n",
    "for trial_id in trial_ids:\n",
    "    video = np.load(\n",
    "        DATA_DIR / data.MOUSE_IDS[mouse_id] / \"data\" / \"videos\" / f\"{trial_id}.npy\"\n",
    "    )\n",
    "    for frame in [0, 151, 299]:\n",
    "        figure, ax = plt.subplots(nrows=1, ncols=1, figsize=(3, 2), dpi=DPI)\n",
    "        ax.imshow(\n",
    "            video[:, :, frame],\n",
    "            cmap=\"gray\",\n",
    "            aspect=\"equal\",\n",
    "            vmin=0,\n",
    "            vmax=255,\n",
    "        )\n",
    "        # figure.text(\n",
    "        #     x=0.88,\n",
    "        #     y=0.76,\n",
    "        #     s=f\"Frame {frame+1}\",\n",
    "        #     ha=\"right\",\n",
    "        #     va=\"center\",\n",
    "        #     fontsize=10,\n",
    "        #     color=\"white\",\n",
    "        #     alpha=1.0,\n",
    "        # )\n",
    "        ax.set_xticks([])\n",
    "        ax.set_yticks([])\n",
    "        for spine in ax.spines.values():\n",
    "            spine.set_edgecolor(\"black\")\n",
    "            spine.set_linewidth(4)\n",
    "        # plt.show()\n",
    "        plot.save_figure(\n",
    "            figure,\n",
    "            filename=filename / f\"trial{trial_id:03d}\" / f\"frame{frame+1:03d}.svg\",\n",
    "            dpi=DPI,\n",
    "            close=False,\n",
    "        )\n",
    "        plt.close(figure)"
   ]
  },
  {
   "cell_type": "markdown",
   "metadata": {},
   "source": [
    "### Plot traces"
   ]
  },
  {
   "metadata": {
    "ExecuteTime": {
     "end_time": "2025-05-22T18:29:21.757379Z",
     "start_time": "2025-05-22T18:29:21.753242Z"
    }
   },
   "cell_type": "code",
   "source": [
    "def plot_traces(\n",
    "    filename: Path,\n",
    "    response: np.ndarray,\n",
    "    color: str,\n",
    "    title: str | None = None,\n",
    "    neuron_order: np.ndarray | None = None,\n",
    "):\n",
    "    response = (response / np.max(response, axis=1, keepdims=True)) * 0.05\n",
    "    if neuron_order is not None:\n",
    "        response = response[neuron_order]\n",
    "    figure, ax = plt.subplots(nrows=1, ncols=1, figsize=(1.6, 1), dpi=DPI)\n",
    "    num_neurons = 20\n",
    "    offset = 0\n",
    "    for i in range(num_neurons):\n",
    "        ax.plot(\n",
    "            response[i] + offset,\n",
    "            linewidth=2,\n",
    "            alpha=(1 / 1.15) ** i,\n",
    "            clip_on=False,\n",
    "            color=color,\n",
    "            zorder=num_neurons - i,\n",
    "        )\n",
    "        offset += 0.02\n",
    "    ax.set_xticks([])\n",
    "    ax.set_yticks([])\n",
    "    # ax.set_ylabel(\"8k neuron\", fontsize=11)\n",
    "    # ax.yaxis.set_label_coords(0.036, 0.5)\n",
    "    if title is not None:\n",
    "        figure.text(x=0.51, y=-0.02, s=title, fontsize=12)\n",
    "    scale_bar = AnchoredSizeBar(\n",
    "        transform=ax.transData,\n",
    "        size=30,\n",
    "        label=\"1s\",\n",
    "        loc=\"center\",\n",
    "        frameon=False,\n",
    "        pad=0,\n",
    "        fontproperties={\"size\": 10},\n",
    "        size_vertical=0.004,\n",
    "        bbox_to_anchor=(0.095, -0.11),\n",
    "        bbox_transform=ax.transAxes,\n",
    "    )\n",
    "    ax.add_artist(scale_bar)\n",
    "    sns.despine(ax=ax, left=True, bottom=True)\n",
    "    plt.show()\n",
    "    plot.save_figure(figure, filename=filename, dpi=DPI)"
   ],
   "outputs": [],
   "execution_count": 109
  },
  {
   "cell_type": "code",
   "metadata": {
    "ExecuteTime": {
     "end_time": "2025-05-22T18:34:33.149535Z",
     "start_time": "2025-05-22T18:34:33.022553Z"
    }
   },
   "source": [
    "mouse_id, trial_id = \"B\", 83\n",
    "\n",
    "neuron_order = utils.get_reliable_neurons(\n",
    "    output_dir=OUTPUT_DIR, mouse_id=mouse_id, size=20\n",
    ")\n",
    "# Plot recorded response\n",
    "response = np.load(\n",
    "    DATA_DIR / data.MOUSE_IDS[mouse_id] / \"data\" / \"responses\" / f\"{trial_id}.npy\"\n",
    ")\n",
    "response = response[:, 50:300]\n",
    "plot_traces(\n",
    "    filename=PLOT_DIR\n",
    "    / \"response\"\n",
    "    / \"recorded\"\n",
    "    / f\"mouse{mouse_id}\"\n",
    "    / f\"trial{trial_id:03d}.svg\",\n",
    "    response=response,\n",
    "    color=\"black\",\n",
    "    # title=\"Recorded\",\n",
    "    neuron_order=neuron_order,\n",
    ")\n",
    "\n",
    "# Plot predicted response\n",
    "\n",
    "response = h5.get(\n",
    "    filename=OUTPUT_DIR / \"responses\" / f\"mouse{mouse_id}.h5\",\n",
    "    trial_ids=[trial_id],\n",
    ")[0]\n",
    "\n",
    "plot_traces(\n",
    "    filename=PLOT_DIR\n",
    "    / \"response\"\n",
    "    / \"ViV1T\"\n",
    "    / f\"mouse{mouse_id}\"\n",
    "    / f\"trial{trial_id:03d}.svg\",\n",
    "    response=response,\n",
    "    color=\"limegreen\",\n",
    "    # title=\"Predicted\",\n",
    "    neuron_order=neuron_order,\n",
    ")"
   ],
   "outputs": [
    {
     "data": {
      "text/plain": [
       "<Figure size 288x180 with 1 Axes>"
      ],
      "image/png": "[encoded data removed]"
     },
     "metadata": {},
     "output_type": "display_data"
    },
    {
     "data": {
      "text/plain": [
       "<Figure size 288x180 with 1 Axes>"
      ],
      "image/png": "[encoded data removed]"
     },
     "metadata": {},
     "output_type": "display_data"
    }
   ],
   "execution_count": 115
  },
  {
   "metadata": {},
   "cell_type": "code",
   "outputs": [],
   "execution_count": null,
   "source": ""
  },
  {
   "cell_type": "markdown",
   "metadata": {},
   "source": [
    "# Plot drifting Gabor"
   ]
  },
  {
   "cell_type": "code",
   "execution_count": 710,
   "metadata": {},
   "outputs": [],
   "source": [
    "mouse_id, trial_id = \"B\", 2\n",
    "filename = PLOT_DIR / \"video\" / f\"mouse{mouse_id}\"\n",
    "\n",
    "video = np.load(\n",
    "    DATA_DIR / data.MOUSE_IDS[mouse_id] / \"data\" / \"videos\" / f\"{trial_id}.npy\"\n",
    ")\n",
    "for frame in [0, 151, 299]:\n",
    "    figure, ax = plt.subplots(nrows=1, ncols=1, figsize=(3, 2), dpi=DPI)\n",
    "    ax.imshow(\n",
    "        video[:, :, frame],\n",
    "        cmap=\"gray\",\n",
    "        aspect=\"equal\",\n",
    "        vmin=0,\n",
    "        vmax=255,\n",
    "    )\n",
    "    # figure.text(\n",
    "    #     x=0.88,\n",
    "    #     y=0.76,\n",
    "    #     s=f\"Frame {frame+1}\",\n",
    "    #     ha=\"right\",\n",
    "    #     va=\"center\",\n",
    "    #     fontsize=10,\n",
    "    #     color=\"white\",\n",
    "    #     alpha=1.0,\n",
    "    # )\n",
    "    ax.set_xticks([])\n",
    "    ax.set_yticks([])\n",
    "    for spine in ax.spines.values():\n",
    "        spine.set_edgecolor(\"black\")\n",
    "        spine.set_linewidth(4)\n",
    "    # plt.show()\n",
    "    plot.save_figure(\n",
    "        figure,\n",
    "        filename=filename / f\"trial{trial_id:03d}\" / f\"frame{frame+1:03d}.svg\",\n",
    "        dpi=DPI,\n",
    "        close=False,\n",
    "    )\n",
    "    plt.close(figure)"
   ]
  },
  {
   "cell_type": "code",
   "execution_count": 14,
   "metadata": {},
   "outputs": [
    {
     "data": {
      "image/png": "[encoded data removed]",
      "text/plain": [
       "<Figure size 360x180 with 1 Axes>"
      ]
     },
     "metadata": {},
     "output_type": "display_data"
    }
   ],
   "source": [
    "mouse_id, trial_id = \"B\", 2\n",
    "filename = (\n",
    "    PLOT_DIR / \"response\" / \"recorded\" / f\"mouse{mouse_id}\" / f\"trial{trial_id:03d}.svg\"\n",
    ")\n",
    "\n",
    "response = np.load(\n",
    "    DATA_DIR / data.MOUSE_IDS[mouse_id] / \"data\" / \"responses\" / f\"{trial_id}.npy\"\n",
    ")\n",
    "response = response[:, 50:300]\n",
    "\n",
    "response = (response / np.max(response, axis=1, keepdims=True)) * 0.05\n",
    "\n",
    "figure, ax = plt.subplots(nrows=1, ncols=1, figsize=(2, 1), dpi=DPI)\n",
    "\n",
    "num_neurons = 20\n",
    "\n",
    "colormap = matplotlib.colormaps.get_cmap(\"grey\")\n",
    "colors = [colormap(i) for i in np.linspace(0, 1, num_neurons)]\n",
    "\n",
    "offset = 0\n",
    "for i in range(num_neurons):\n",
    "    ax.plot(\n",
    "        response[i] + offset,\n",
    "        linewidth=2,\n",
    "        # alpha=0.8,\n",
    "        alpha=(1 / 1.15) ** i,\n",
    "        clip_on=False,\n",
    "        # color=colors[i],\n",
    "        color=\"black\",\n",
    "        zorder=num_neurons - i,\n",
    "    )\n",
    "    offset += 0.02\n",
    "\n",
    "ax.set_xticks([])\n",
    "ax.set_yticks([])\n",
    "# ax.set_ylabel(\"neuron\", fontsize=12)\n",
    "# ax.yaxis.set_label_coords(0.036, 0.4)\n",
    "figure.text(x=0.51, y=-0.02, s=\"recorded\", fontsize=12)\n",
    "\n",
    "scale_bar = AnchoredSizeBar(\n",
    "    transform=ax.transData,\n",
    "    size=30,\n",
    "    label=\"1s\",\n",
    "    loc=\"center\",\n",
    "    frameon=False,\n",
    "    pad=0,\n",
    "    fontproperties={\"size\": 10},\n",
    "    size_vertical=0.004,\n",
    "    bbox_to_anchor=(0.095, -0.11),\n",
    "    bbox_transform=ax.transAxes,\n",
    ")\n",
    "ax.add_artist(scale_bar)\n",
    "\n",
    "sns.despine(ax=ax, left=True, bottom=True)\n",
    "\n",
    "plt.show()\n",
    "if filename is not None:\n",
    "    plot.save_figure(\n",
    "        figure,\n",
    "        filename=filename,\n",
    "        dpi=DPI,\n",
    "        close=False,\n",
    "    )\n",
    "\n",
    "plt.close(figure)"
   ]
  },
  {
   "cell_type": "code",
   "execution_count": 15,
   "metadata": {},
   "outputs": [
    {
     "data": {
      "image/png": "[encoded data removed]",
      "text/plain": [
       "<Figure size 360x180 with 1 Axes>"
      ]
     },
     "metadata": {},
     "output_type": "display_data"
    }
   ],
   "source": [
    "mouse_id, trial_id = \"B\", 2\n",
    "filename = (\n",
    "    PLOT_DIR / \"response\" / \"ViV1T\" / f\"mouse{mouse_id}\" / f\"trial{trial_id:03d}.svg\"\n",
    ")\n",
    "OUTPUT_DIR = Path(\"../runs/vivit/156_vivit_elu\")\n",
    "\n",
    "response = h5.get(\n",
    "    filename=OUTPUT_DIR / \"responses\" / f\"mouse{mouse_id}.h5\",\n",
    "    trial_ids=[trial_id],\n",
    ")[0]\n",
    "\n",
    "response = (response / np.max(response, axis=1, keepdims=True)) * 0.05\n",
    "\n",
    "figure, ax = plt.subplots(nrows=1, ncols=1, figsize=(2, 1), dpi=DPI)\n",
    "\n",
    "num_neurons = 20\n",
    "\n",
    "colormap = matplotlib.colormaps.get_cmap(\"grey\")\n",
    "colors = [colormap(i) for i in np.linspace(0, 1, num_neurons)]\n",
    "\n",
    "offset = 0\n",
    "for i in range(num_neurons):\n",
    "    ax.plot(\n",
    "        response[i] + offset,\n",
    "        linewidth=2,\n",
    "        # alpha=0.8,\n",
    "        alpha=(1 / 1.2) ** i,\n",
    "        clip_on=False,\n",
    "        # color=colors[i],\n",
    "        color=\"forestgreen\",\n",
    "        zorder=num_neurons - i,\n",
    "    )\n",
    "    offset += 0.02\n",
    "\n",
    "ax.set_xticks([])\n",
    "ax.set_yticks([])\n",
    "# ax.set_ylabel(\"neuron\", fontsize=12)\n",
    "# ax.yaxis.set_label_coords(0.036, 0.4)\n",
    "figure.text(x=0.485, y=0.0, s=\"predicted\", fontsize=12)\n",
    "\n",
    "scale_bar = AnchoredSizeBar(\n",
    "    transform=ax.transData,\n",
    "    size=30,\n",
    "    label=\"1s\",\n",
    "    loc=\"center\",\n",
    "    frameon=False,\n",
    "    pad=0,\n",
    "    fontproperties={\"size\": 10},\n",
    "    size_vertical=0.004,\n",
    "    bbox_to_anchor=(0.095, -0.11),\n",
    "    bbox_transform=ax.transAxes,\n",
    ")\n",
    "ax.add_artist(scale_bar)\n",
    "\n",
    "sns.despine(ax=ax, left=True, bottom=True)\n",
    "\n",
    "plt.show()\n",
    "if filename is not None:\n",
    "    plot.save_figure(\n",
    "        figure,\n",
    "        filename=filename,\n",
    "        dpi=DPI,\n",
    "        close=False,\n",
    "    )\n",
    "\n",
    "plt.close(figure)"
   ]
  },
  {
   "cell_type": "markdown",
   "metadata": {},
   "source": [
    "# Plot directional pink noise"
   ]
  },
  {
   "cell_type": "code",
   "execution_count": 716,
   "metadata": {},
   "outputs": [],
   "source": [
    "mouse_id, trial_id = \"B\", 42\n",
    "filename = PLOT_DIR / \"video\" / f\"mouse{mouse_id}\"\n",
    "\n",
    "video = np.load(\n",
    "    DATA_DIR / data.MOUSE_IDS[mouse_id] / \"data\" / \"videos\" / f\"{trial_id}.npy\"\n",
    ")\n",
    "for frame in [0, 151, 299]:\n",
    "    figure, ax = plt.subplots(nrows=1, ncols=1, figsize=(3, 2), dpi=DPI)\n",
    "    ax.imshow(\n",
    "        video[:, :, frame],\n",
    "        cmap=\"gray\",\n",
    "        aspect=\"equal\",\n",
    "        vmin=0,\n",
    "        vmax=255,\n",
    "    )\n",
    "    ax.set_xticks([])\n",
    "    ax.set_yticks([])\n",
    "    for spine in ax.spines.values():\n",
    "        spine.set_edgecolor(\"black\")\n",
    "        spine.set_linewidth(4)\n",
    "    plot.save_figure(\n",
    "        figure,\n",
    "        filename=filename / f\"trial{trial_id:03d}\" / f\"frame{frame+1:03d}.svg\",\n",
    "        dpi=DPI,\n",
    "        close=False,\n",
    "    )\n",
    "    plt.close(figure)"
   ]
  },
  {
   "cell_type": "markdown",
   "metadata": {},
   "source": [
    "### Plot image"
   ]
  },
  {
   "cell_type": "code",
   "execution_count": 768,
   "metadata": {},
   "outputs": [
    {
     "data": {
      "image/png": "[encoded data removed]",
      "text/plain": [
       "<Figure size 540x360 with 1 Axes>"
      ]
     },
     "metadata": {},
     "output_type": "display_data"
    },
    {
     "data": {
      "image/png": "[encoded data removed]",
      "text/plain": [
       "<Figure size 540x360 with 1 Axes>"
      ]
     },
     "metadata": {},
     "output_type": "display_data"
    },
    {
     "data": {
      "image/png": "[encoded data removed]",
      "text/plain": [
       "<Figure size 540x360 with 1 Axes>"
      ]
     },
     "metadata": {},
     "output_type": "display_data"
    }
   ],
   "source": [
    "mouse_id, trial_id = \"B\", 673\n",
    "filename = PLOT_DIR / \"video\" / f\"mouse{mouse_id}\"\n",
    "\n",
    "video = np.load(\n",
    "    DATA_DIR / data.MOUSE_IDS[mouse_id] / \"data\" / \"videos\" / f\"{trial_id}.npy\"\n",
    ")\n",
    "for frame in [0, 151, 299]:\n",
    "    figure, ax = plt.subplots(nrows=1, ncols=1, figsize=(3, 2), dpi=DPI)\n",
    "    ax.imshow(\n",
    "        video[:, :, frame],\n",
    "        cmap=\"gray\",\n",
    "        aspect=\"equal\",\n",
    "        vmin=0,\n",
    "        vmax=255,\n",
    "    )\n",
    "    ax.set_xticks([])\n",
    "    ax.set_yticks([])\n",
    "    for spine in ax.spines.values():\n",
    "        spine.set_edgecolor(\"black\")\n",
    "        spine.set_linewidth(4)\n",
    "    plot.save_figure(\n",
    "        figure,\n",
    "        filename=filename / f\"trial{trial_id:03d}\" / f\"frame{frame+1:03d}.svg\",\n",
    "        dpi=DPI,\n",
    "        close=False,\n",
    "    )\n",
    "    plt.show()\n",
    "    plt.close(figure)"
   ]
  },
  {
   "cell_type": "markdown",
   "metadata": {},
   "source": [
    "# Plot Gaussian dots"
   ]
  },
  {
   "cell_type": "code",
   "execution_count": 769,
   "metadata": {},
   "outputs": [
    {
     "data": {
      "image/png": "[encoded data removed]",
      "text/plain": [
       "<Figure size 540x360 with 1 Axes>"
      ]
     },
     "metadata": {},
     "output_type": "display_data"
    },
    {
     "data": {
      "image/png": "[encoded data removed]",
      "text/plain": [
       "<Figure size 540x360 with 1 Axes>"
      ]
     },
     "metadata": {},
     "output_type": "display_data"
    },
    {
     "data": {
      "image/png": "[encoded data removed]",
      "text/plain": [
       "<Figure size 540x360 with 1 Axes>"
      ]
     },
     "metadata": {},
     "output_type": "display_data"
    }
   ],
   "source": [
    "mouse_id, trial_id = \"A\", 12\n",
    "filename = PLOT_DIR / \"video\" / f\"mouse{mouse_id}\"\n",
    "\n",
    "video = np.load(\n",
    "    DATA_DIR / data.MOUSE_IDS[mouse_id] / \"data\" / \"videos\" / f\"{trial_id}.npy\"\n",
    ")\n",
    "for frame in [0, 151, 299]:\n",
    "    figure, ax = plt.subplots(nrows=1, ncols=1, figsize=(3, 2), dpi=DPI)\n",
    "    ax.imshow(\n",
    "        video[:, :, frame],\n",
    "        cmap=\"gray\",\n",
    "        aspect=\"equal\",\n",
    "        vmin=0,\n",
    "        vmax=255,\n",
    "    )\n",
    "    ax.set_xticks([])\n",
    "    ax.set_yticks([])\n",
    "    for spine in ax.spines.values():\n",
    "        spine.set_edgecolor(\"black\")\n",
    "        spine.set_linewidth(4)\n",
    "    plot.save_figure(\n",
    "        figure,\n",
    "        filename=filename / f\"trial{trial_id:03d}\" / f\"frame{frame+1:03d}.svg\",\n",
    "        dpi=DPI,\n",
    "        close=False,\n",
    "    )\n",
    "    plt.show()\n",
    "    plt.close(figure)"
   ]
  },
  {
   "cell_type": "markdown",
   "metadata": {},
   "source": [
    "# Plot random dots"
   ]
  },
  {
   "cell_type": "code",
   "execution_count": 774,
   "metadata": {},
   "outputs": [
    {
     "data": {
      "image/png": "[encoded data removed]",
      "text/plain": [
       "<Figure size 540x360 with 1 Axes>"
      ]
     },
     "metadata": {},
     "output_type": "display_data"
    },
    {
     "data": {
      "image/png": "[encoded data removed]",
      "text/plain": [
       "<Figure size 540x360 with 1 Axes>"
      ]
     },
     "metadata": {},
     "output_type": "display_data"
    },
    {
     "data": {
      "image/png": "[encoded data removed]",
      "text/plain": [
       "<Figure size 540x360 with 1 Axes>"
      ]
     },
     "metadata": {},
     "output_type": "display_data"
    }
   ],
   "source": [
    "mouse_id, trial_id = \"A\", 38\n",
    "filename = PLOT_DIR / \"video\" / f\"mouse{mouse_id}\"\n",
    "\n",
    "video = np.load(\n",
    "    DATA_DIR / data.MOUSE_IDS[mouse_id] / \"data\" / \"videos\" / f\"{trial_id}.npy\"\n",
    ")\n",
    "for frame in [0, 151, 200]:\n",
    "    figure, ax = plt.subplots(nrows=1, ncols=1, figsize=(3, 2), dpi=DPI)\n",
    "    ax.imshow(\n",
    "        video[:, :, frame],\n",
    "        cmap=\"gray\",\n",
    "        aspect=\"equal\",\n",
    "        vmin=0,\n",
    "        vmax=255,\n",
    "    )\n",
    "    ax.set_xticks([])\n",
    "    ax.set_yticks([])\n",
    "    for spine in ax.spines.values():\n",
    "        spine.set_edgecolor(\"black\")\n",
    "        spine.set_linewidth(4)\n",
    "    plot.save_figure(\n",
    "        figure,\n",
    "        filename=filename / f\"trial{trial_id:03d}\" / f\"frame{frame+1:03d}.svg\",\n",
    "        dpi=DPI,\n",
    "        close=False,\n",
    "    )\n",
    "    plt.show()\n",
    "    plt.close(figure)"
   ]
  },
  {
   "cell_type": "code",
   "execution_count": null,
   "metadata": {},
   "outputs": [],
   "source": []
  }
 ],
 "metadata": {
  "kernelspec": {
   "display_name": "Python 3",
   "language": "python",
   "name": "python3"
  },
  "language_info": {
   "codemirror_mode": {
    "name": "ipython",
    "version": 3
   },
   "file_extension": ".py",
   "mimetype": "text/x-python",
   "name": "python",
   "nbconvert_exporter": "python",
   "pygments_lexer": "ipython3",
   "version": "3.12.4"
  }
 },
 "nbformat": 4,
 "nbformat_minor": 0
}
